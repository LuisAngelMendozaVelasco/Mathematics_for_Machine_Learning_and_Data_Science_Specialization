{
 "cells": [
  {
   "cell_type": "markdown",
   "id": "c6dea874",
   "metadata": {},
   "source": [
    "# Ungraded Lab - Summary Statistics\n",
    "\n",
    "In this notebook, you will be working with two distinct datasets. You will notice that relying solely on the main statistical measures such as mean, variance (or standard deviation), and correlation may not always effectively describe the datasets. Therefore, it is always advisable to supplement these measures with visualization techniques and/or other statistical measures to gain a deeper understanding of the data.\n",
    "\n",
    "You will be working with two well-known datasets: Anscombe's quartet and the Datasaurus Dozen dataset. These datasets are artificially generated and are used to illustrate the fact that some metrics can fail to capture important information present in a dataset. More specifically, these datasets are used to demonstrate how relying solely on metrics can sometimes be misleading. If you're interested, you can read more about Anscombe's quartet and the Datasaurus Dozen dataset at their respective [Wikipedia](https://en.wikipedia.org/wiki/Anscombe%27s_quartet) page and [Autodesk Research](https://damassets.autodesk.net/content/dam/autodesk/research/publications-assets/pdf/same-stats-different-graphs.pdf) article."
   ]
  },
  {
   "cell_type": "code",
   "execution_count": 1,
   "id": "a74d2cd6",
   "metadata": {},
   "outputs": [],
   "source": [
    "import numpy as np\n",
    "import pandas as pd\n",
    "import os\n",
    "import matplotlib.pyplot as plt\n",
    "import w2_l1_utils\n",
    "import seaborn as sns\n",
    "\n",
    "%matplotlib widget\n",
    "sns.set_style(\"whitegrid\")"
   ]
  },
  {
   "cell_type": "markdown",
   "id": "d084f9c7",
   "metadata": {},
   "source": [
    "# 1.1 First data set - Anscombe's quartet\n",
    "\n",
    "This first dataset was initially constructed by the statistician Francis Anscombe to demonstrate both the importance of graphing data when analyzing it, and the effect of outliers and other influential observations on statistical properties. (From wikipedia)\n",
    "\n",
    "Let us explore the first dataset. To do this, you will be utilizing the popular Python library called [pandas](https://pandas.pydata.org/), specifically its main object known as [DataFrame](https://pandas.pydata.org/docs/reference/api/pandas.DataFrame.html#pandas.DataFrame).\n",
    "\n",
    "To read the dataset, which is stored in a `.csv file`, you can use the read_csv function in pandas. This function enables you to load a DataFrame immediately. For further information on this function, you can type help(pd.read_csv) in your code editor."
   ]
  },
  {
   "cell_type": "code",
   "execution_count": 2,
   "id": "8a5ad75e",
   "metadata": {},
   "outputs": [],
   "source": [
    "# This line of code reads the dataset named 'df_anscombe.csv', which is stored in the same directory as this notebook.\n",
    "df_anscombe = pd.read_csv('./data/df_anscombe.csv')"
   ]
  },
  {
   "cell_type": "markdown",
   "id": "9fac4348",
   "metadata": {},
   "source": [
    "The call `df_anscombe.head()` will show you the first five rows of the data set, so you can have a look on its data."
   ]
  },
  {
   "cell_type": "code",
   "execution_count": 3,
   "id": "a20f11a7",
   "metadata": {},
   "outputs": [
    {
     "data": {
      "text/html": [
       "<div>\n",
       "<style scoped>\n",
       "    .dataframe tbody tr th:only-of-type {\n",
       "        vertical-align: middle;\n",
       "    }\n",
       "\n",
       "    .dataframe tbody tr th {\n",
       "        vertical-align: top;\n",
       "    }\n",
       "\n",
       "    .dataframe thead th {\n",
       "        text-align: right;\n",
       "    }\n",
       "</style>\n",
       "<table border=\"1\" class=\"dataframe\">\n",
       "  <thead>\n",
       "    <tr style=\"text-align: right;\">\n",
       "      <th></th>\n",
       "      <th>x</th>\n",
       "      <th>y</th>\n",
       "      <th>group</th>\n",
       "    </tr>\n",
       "  </thead>\n",
       "  <tbody>\n",
       "    <tr>\n",
       "      <th>0</th>\n",
       "      <td>10.0</td>\n",
       "      <td>8.04</td>\n",
       "      <td>1</td>\n",
       "    </tr>\n",
       "    <tr>\n",
       "      <th>1</th>\n",
       "      <td>8.0</td>\n",
       "      <td>6.95</td>\n",
       "      <td>1</td>\n",
       "    </tr>\n",
       "    <tr>\n",
       "      <th>2</th>\n",
       "      <td>13.0</td>\n",
       "      <td>7.58</td>\n",
       "      <td>1</td>\n",
       "    </tr>\n",
       "    <tr>\n",
       "      <th>3</th>\n",
       "      <td>9.0</td>\n",
       "      <td>8.81</td>\n",
       "      <td>1</td>\n",
       "    </tr>\n",
       "    <tr>\n",
       "      <th>4</th>\n",
       "      <td>11.0</td>\n",
       "      <td>8.33</td>\n",
       "      <td>1</td>\n",
       "    </tr>\n",
       "  </tbody>\n",
       "</table>\n",
       "</div>"
      ],
      "text/plain": [
       "      x     y  group\n",
       "0  10.0  8.04      1\n",
       "1   8.0  6.95      1\n",
       "2  13.0  7.58      1\n",
       "3   9.0  8.81      1\n",
       "4  11.0  8.33      1"
      ]
     },
     "execution_count": 3,
     "metadata": {},
     "output_type": "execute_result"
    }
   ],
   "source": [
    "df_anscombe.head()"
   ]
  },
  {
   "cell_type": "code",
   "execution_count": 4,
   "id": "2080e010",
   "metadata": {},
   "outputs": [
    {
     "data": {
      "text/plain": [
       "4"
      ]
     },
     "execution_count": 4,
     "metadata": {},
     "output_type": "execute_result"
    }
   ],
   "source": [
    "# Let's determine the number of groups present in this dataset.\n",
    "df_anscombe.group.nunique()"
   ]
  },
  {
   "cell_type": "markdown",
   "id": "bd9ce36c",
   "metadata": {},
   "source": [
    "This dataset comprises of four groups of data, each containing two components - `x` and `y`. To analyze the data, you can obtain the mean and variance of each group, as well as the correlation between x and y within each group. Pandas provides a built-in function called `DataFrame.describe` that displays common statistics for each variable. To group the data by the group column, you can use the `DataFrame.groupby` function."
   ]
  },
  {
   "cell_type": "markdown",
   "id": "70946c36",
   "metadata": {},
   "source": [
    "The next block of code first groups the `DataFrame` based on the group column, and then applies the describe function to obtain the common statistics for each variable in each group."
   ]
  },
  {
   "cell_type": "code",
   "execution_count": 5,
   "id": "e66e9c08",
   "metadata": {},
   "outputs": [
    {
     "data": {
      "text/html": [
       "<div>\n",
       "<style scoped>\n",
       "    .dataframe tbody tr th:only-of-type {\n",
       "        vertical-align: middle;\n",
       "    }\n",
       "\n",
       "    .dataframe tbody tr th {\n",
       "        vertical-align: top;\n",
       "    }\n",
       "\n",
       "    .dataframe thead tr th {\n",
       "        text-align: left;\n",
       "    }\n",
       "\n",
       "    .dataframe thead tr:last-of-type th {\n",
       "        text-align: right;\n",
       "    }\n",
       "</style>\n",
       "<table border=\"1\" class=\"dataframe\">\n",
       "  <thead>\n",
       "    <tr>\n",
       "      <th></th>\n",
       "      <th colspan=\"8\" halign=\"left\">x</th>\n",
       "      <th colspan=\"8\" halign=\"left\">y</th>\n",
       "    </tr>\n",
       "    <tr>\n",
       "      <th></th>\n",
       "      <th>count</th>\n",
       "      <th>mean</th>\n",
       "      <th>std</th>\n",
       "      <th>min</th>\n",
       "      <th>25%</th>\n",
       "      <th>50%</th>\n",
       "      <th>75%</th>\n",
       "      <th>max</th>\n",
       "      <th>count</th>\n",
       "      <th>mean</th>\n",
       "      <th>std</th>\n",
       "      <th>min</th>\n",
       "      <th>25%</th>\n",
       "      <th>50%</th>\n",
       "      <th>75%</th>\n",
       "      <th>max</th>\n",
       "    </tr>\n",
       "    <tr>\n",
       "      <th>group</th>\n",
       "      <th></th>\n",
       "      <th></th>\n",
       "      <th></th>\n",
       "      <th></th>\n",
       "      <th></th>\n",
       "      <th></th>\n",
       "      <th></th>\n",
       "      <th></th>\n",
       "      <th></th>\n",
       "      <th></th>\n",
       "      <th></th>\n",
       "      <th></th>\n",
       "      <th></th>\n",
       "      <th></th>\n",
       "      <th></th>\n",
       "      <th></th>\n",
       "    </tr>\n",
       "  </thead>\n",
       "  <tbody>\n",
       "    <tr>\n",
       "      <th>1</th>\n",
       "      <td>11.0</td>\n",
       "      <td>9.0</td>\n",
       "      <td>3.316625</td>\n",
       "      <td>4.0</td>\n",
       "      <td>6.5</td>\n",
       "      <td>9.0</td>\n",
       "      <td>11.5</td>\n",
       "      <td>14.0</td>\n",
       "      <td>11.0</td>\n",
       "      <td>7.500909</td>\n",
       "      <td>2.031568</td>\n",
       "      <td>4.26</td>\n",
       "      <td>6.315</td>\n",
       "      <td>7.58</td>\n",
       "      <td>8.57</td>\n",
       "      <td>10.84</td>\n",
       "    </tr>\n",
       "    <tr>\n",
       "      <th>2</th>\n",
       "      <td>11.0</td>\n",
       "      <td>9.0</td>\n",
       "      <td>3.316625</td>\n",
       "      <td>4.0</td>\n",
       "      <td>6.5</td>\n",
       "      <td>9.0</td>\n",
       "      <td>11.5</td>\n",
       "      <td>14.0</td>\n",
       "      <td>11.0</td>\n",
       "      <td>7.500909</td>\n",
       "      <td>2.031657</td>\n",
       "      <td>3.10</td>\n",
       "      <td>6.695</td>\n",
       "      <td>8.14</td>\n",
       "      <td>8.95</td>\n",
       "      <td>9.26</td>\n",
       "    </tr>\n",
       "    <tr>\n",
       "      <th>3</th>\n",
       "      <td>11.0</td>\n",
       "      <td>9.0</td>\n",
       "      <td>3.316625</td>\n",
       "      <td>4.0</td>\n",
       "      <td>6.5</td>\n",
       "      <td>9.0</td>\n",
       "      <td>11.5</td>\n",
       "      <td>14.0</td>\n",
       "      <td>11.0</td>\n",
       "      <td>7.500000</td>\n",
       "      <td>2.030424</td>\n",
       "      <td>5.39</td>\n",
       "      <td>6.250</td>\n",
       "      <td>7.11</td>\n",
       "      <td>7.98</td>\n",
       "      <td>12.74</td>\n",
       "    </tr>\n",
       "    <tr>\n",
       "      <th>4</th>\n",
       "      <td>11.0</td>\n",
       "      <td>9.0</td>\n",
       "      <td>3.316625</td>\n",
       "      <td>8.0</td>\n",
       "      <td>8.0</td>\n",
       "      <td>8.0</td>\n",
       "      <td>8.0</td>\n",
       "      <td>19.0</td>\n",
       "      <td>11.0</td>\n",
       "      <td>7.500909</td>\n",
       "      <td>2.030579</td>\n",
       "      <td>5.25</td>\n",
       "      <td>6.170</td>\n",
       "      <td>7.04</td>\n",
       "      <td>8.19</td>\n",
       "      <td>12.50</td>\n",
       "    </tr>\n",
       "  </tbody>\n",
       "</table>\n",
       "</div>"
      ],
      "text/plain": [
       "          x                                               y            \\\n",
       "      count mean       std  min  25%  50%   75%   max count      mean   \n",
       "group                                                                   \n",
       "1      11.0  9.0  3.316625  4.0  6.5  9.0  11.5  14.0  11.0  7.500909   \n",
       "2      11.0  9.0  3.316625  4.0  6.5  9.0  11.5  14.0  11.0  7.500909   \n",
       "3      11.0  9.0  3.316625  4.0  6.5  9.0  11.5  14.0  11.0  7.500000   \n",
       "4      11.0  9.0  3.316625  8.0  8.0  8.0   8.0  19.0  11.0  7.500909   \n",
       "\n",
       "                                                 \n",
       "            std   min    25%   50%   75%    max  \n",
       "group                                            \n",
       "1      2.031568  4.26  6.315  7.58  8.57  10.84  \n",
       "2      2.031657  3.10  6.695  8.14  8.95   9.26  \n",
       "3      2.030424  5.39  6.250  7.11  7.98  12.74  \n",
       "4      2.030579  5.25  6.170  7.04  8.19  12.50  "
      ]
     },
     "execution_count": 5,
     "metadata": {},
     "output_type": "execute_result"
    }
   ],
   "source": [
    "df_anscombe.groupby('group').describe()"
   ]
  },
  {
   "cell_type": "markdown",
   "id": "02532823",
   "metadata": {},
   "source": [
    "The groups appear to be quite similar, as evidenced by the identical mean and standard deviation values for both `x` and `y` within each group.\n",
    "\n",
    "Additionally, you can analyze the correlation between `x` and `y` within each group.\n",
    "\n",
    "To obtain the correlation matrix for each group, you can follow the same approach as before. First, group the data by the `group` column using `DataFrame.groupby`, and then apply the `.corr` function."
   ]
  },
  {
   "cell_type": "code",
   "execution_count": 6,
   "id": "655b0377",
   "metadata": {},
   "outputs": [
    {
     "data": {
      "text/html": [
       "<div>\n",
       "<style scoped>\n",
       "    .dataframe tbody tr th:only-of-type {\n",
       "        vertical-align: middle;\n",
       "    }\n",
       "\n",
       "    .dataframe tbody tr th {\n",
       "        vertical-align: top;\n",
       "    }\n",
       "\n",
       "    .dataframe thead th {\n",
       "        text-align: right;\n",
       "    }\n",
       "</style>\n",
       "<table border=\"1\" class=\"dataframe\">\n",
       "  <thead>\n",
       "    <tr style=\"text-align: right;\">\n",
       "      <th></th>\n",
       "      <th></th>\n",
       "      <th>x</th>\n",
       "      <th>y</th>\n",
       "    </tr>\n",
       "    <tr>\n",
       "      <th>group</th>\n",
       "      <th></th>\n",
       "      <th></th>\n",
       "      <th></th>\n",
       "    </tr>\n",
       "  </thead>\n",
       "  <tbody>\n",
       "    <tr>\n",
       "      <th rowspan=\"2\" valign=\"top\">1</th>\n",
       "      <th>x</th>\n",
       "      <td>1.000000</td>\n",
       "      <td>0.816421</td>\n",
       "    </tr>\n",
       "    <tr>\n",
       "      <th>y</th>\n",
       "      <td>0.816421</td>\n",
       "      <td>1.000000</td>\n",
       "    </tr>\n",
       "    <tr>\n",
       "      <th rowspan=\"2\" valign=\"top\">2</th>\n",
       "      <th>x</th>\n",
       "      <td>1.000000</td>\n",
       "      <td>0.816237</td>\n",
       "    </tr>\n",
       "    <tr>\n",
       "      <th>y</th>\n",
       "      <td>0.816237</td>\n",
       "      <td>1.000000</td>\n",
       "    </tr>\n",
       "    <tr>\n",
       "      <th rowspan=\"2\" valign=\"top\">3</th>\n",
       "      <th>x</th>\n",
       "      <td>1.000000</td>\n",
       "      <td>0.816287</td>\n",
       "    </tr>\n",
       "    <tr>\n",
       "      <th>y</th>\n",
       "      <td>0.816287</td>\n",
       "      <td>1.000000</td>\n",
       "    </tr>\n",
       "    <tr>\n",
       "      <th rowspan=\"2\" valign=\"top\">4</th>\n",
       "      <th>x</th>\n",
       "      <td>1.000000</td>\n",
       "      <td>0.816521</td>\n",
       "    </tr>\n",
       "    <tr>\n",
       "      <th>y</th>\n",
       "      <td>0.816521</td>\n",
       "      <td>1.000000</td>\n",
       "    </tr>\n",
       "  </tbody>\n",
       "</table>\n",
       "</div>"
      ],
      "text/plain": [
       "                x         y\n",
       "group                      \n",
       "1     x  1.000000  0.816421\n",
       "      y  0.816421  1.000000\n",
       "2     x  1.000000  0.816237\n",
       "      y  0.816237  1.000000\n",
       "3     x  1.000000  0.816287\n",
       "      y  0.816287  1.000000\n",
       "4     x  1.000000  0.816521\n",
       "      y  0.816521  1.000000"
      ]
     },
     "execution_count": 6,
     "metadata": {},
     "output_type": "execute_result"
    }
   ],
   "source": [
    "df_anscombe.groupby('group').corr()"
   ]
  },
  {
   "cell_type": "markdown",
   "id": "facfef83",
   "metadata": {},
   "source": [
    "As observed, the correlation between `x` and `y` is identical within each group up to three decimal places. Moreover, the high correlation coefficient values suggest a strong linear correlation between `x` and `y` within each group.\n",
    "\n",
    "Despite the similarities in the statistical measures for the groups, it is still necessary to visualize the data to get a better understanding of the differences, if any."
   ]
  },
  {
   "cell_type": "code",
   "execution_count": 7,
   "id": "ba869efd",
   "metadata": {},
   "outputs": [
    {
     "data": {
      "application/vnd.jupyter.widget-view+json": {
       "model_id": "d7bf30a2e73e4b1b8f036ce6accdc220",
       "version_major": 2,
       "version_minor": 0
      },
      "image/png": "[encoded data removed]",
      "text/html": [
       "\n",
       "            <div style=\"display: inline-block;\">\n",
       "                <div class=\"jupyter-widgets widget-label\" style=\"text-align: center;\">\n",
       "                    Figure\n",
       "                </div>\n",
       "                <img src='data:image/png;base64,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' width=800.0/>\n",
       "            </div>\n",
       "        "
      ],
      "text/plain": [
       "Canvas(toolbar=Toolbar(toolitems=[('Home', 'Reset original view', 'home', 'home'), ('Back', 'Back to previous …"
      ]
     },
     "metadata": {},
     "output_type": "display_data"
    }
   ],
   "source": [
    "w2_l1_utils.plot_anscombes_quartet()"
   ]
  },
  {
   "cell_type": "markdown",
   "id": "af7aa0f3",
   "metadata": {},
   "source": [
    "Upon visualizing the data, the four groups appear to be quite distinct:\n",
    "\n",
    "1. The first group shows a clear linear relationship between `x` and `y`.\n",
    "2. The second group, on the other hand, exhibits a non-linear pattern, indicating that the usual Pearson correlation may not be appropriate to describe the dataset.\n",
    "3. The third group would be linear if it were not for a single outlier.\n",
    "4. The fourth group demonstrates that `y` can have different values for the same `x`, suggesting that there is no clear relationship between `x` and `y`. However, there is also an outlier in this group.\n",
    "\n",
    "These four groups illustrate that summary statistics alone are not sufficient for investigating data. Visualizing the data, analyzing possible outliers, and identifying more complex relationships are essential to gain a better understanding of the underlying patterns in the data."
   ]
  },
  {
   "cell_type": "markdown",
   "id": "4d829a1f",
   "metadata": {},
   "source": [
    "# 2 - Second data set - Datasaurus Dozen\n",
    "\n",
    "The creation of Anscombe's quartet inspired other authors to generate datasets that have different relationships among its points but share the same summary statistics. One such dataset is the Datasaurus Dozen, which was created by AutoDesk. \n",
    "\n",
    "In this case, you will take a different approach. Instead of analyzing summary statistics and then plotting the data points, you will compare two datasets from the dozen and compute their statistics."
   ]
  },
  {
   "cell_type": "code",
   "execution_count": 8,
   "id": "76d174b1",
   "metadata": {},
   "outputs": [],
   "source": [
    "df_datasaurus = pd.read_csv(\"./data/datasaurus.csv\")"
   ]
  },
  {
   "cell_type": "markdown",
   "id": "f0aaf119",
   "metadata": {},
   "source": [
    "The next cell will run a widget where you can investigate this dataset, which has different groups in it."
   ]
  },
  {
   "cell_type": "code",
   "execution_count": 9,
   "id": "cc2eb2cc",
   "metadata": {},
   "outputs": [
    {
     "data": {
      "application/vnd.jupyter.widget-view+json": {
       "model_id": "1b4428ede4a94cfba10355ff83cb8f74",
       "version_major": 2,
       "version_minor": 0
      },
      "text/plain": [
       "VBox(children=(HBox(children=(Dropdown(description='Data set 1: ', options=('dino', 'away', 'h_lines', 'v_line…"
      ]
     },
     "metadata": {},
     "output_type": "display_data"
    },
    {
     "data": {
      "application/vnd.jupyter.widget-view+json": {
       "model_id": "cf733a3787da486eb5524343f831d591",
       "version_major": 2,
       "version_minor": 0
      },
      "image/png": "[encoded data removed]",
      "text/html": [
       "\n",
       "            <div style=\"display: inline-block;\">\n",
       "                <div class=\"jupyter-widgets widget-label\" style=\"text-align: center;\">\n",
       "                    Figure\n",
       "                </div>\n",
       "                <img src='data:image/png;base64,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' width=800.0/>\n",
       "            </div>\n",
       "        "
      ],
      "text/plain": [
       "Canvas(toolbar=Toolbar(toolitems=[('Home', 'Reset original view', 'home', 'home'), ('Back', 'Back to previous …"
      ]
     },
     "metadata": {},
     "output_type": "display_data"
    }
   ],
   "source": [
    "w2_l1_utils.display_widget()"
   ]
  },
  {
   "cell_type": "markdown",
   "id": "37513ad2",
   "metadata": {},
   "source": [
    "As you have observed, the first dataset was not an anomaly; it is possible to have different datasets with the same summary statistics. Hence, it is essential to keep in mind while analyzing data that the summary statistics alone may not provide a complete picture of the underlying patterns and relationships."
   ]
  },
  {
   "cell_type": "markdown",
   "id": "941c9278",
   "metadata": {},
   "source": [
    "Congratulations! You have completed this ungraded lab and now understand that summary statistics may not capture all the necessary information to describe your data accurately. Keep in mind that visualizations and more in-depth analyses are often needed to get a better understanding of your data."
   ]
  }
 ],
 "metadata": {
  "kernelspec": {
   "display_name": "Python 3 (ipykernel)",
   "language": "python",
   "name": "python3"
  },
  "language_info": {
   "codemirror_mode": {
    "name": "ipython",
    "version": 3
   },
   "file_extension": ".py",
   "mimetype": "text/x-python",
   "name": "python",
   "nbconvert_exporter": "python",
   "pygments_lexer": "ipython3",
   "version": "3.10.12"
  }
 },
 "nbformat": 4,
 "nbformat_minor": 5
}
